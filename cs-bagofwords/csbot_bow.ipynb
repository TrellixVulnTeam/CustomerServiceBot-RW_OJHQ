{
 "cells": [
  {
   "cell_type": "markdown",
   "metadata": {},
   "source": [
    "This notebook creates, trains, and initializes a chatbot using the bag-of-words model. \n",
    "\n",
    "\n",
    "https://chatbotsmagazine.com/contextual-chat-bots-with-tensorflow-4391749d0077"
   ]
  },
  {
   "cell_type": "code",
   "execution_count": 2,
   "metadata": {},
   "outputs": [],
   "source": [
    "import nltk, pickle, json, re, string, tflearn, spacy, warnings\n",
    "warnings.filterwarnings(\"ignore\")\n",
    "from os import path, name, system\n",
    "from nltk.stem.lancaster import LancasterStemmer\n",
    "from random import choice, randint, uniform\n",
    "import numpy as np \n",
    "import tensorflow as tf\n"
   ]
  },
  {
   "cell_type": "code",
   "execution_count": 3,
   "metadata": {},
   "outputs": [],
   "source": [
    "with open('cs_prompts.json') as file:\n",
    "    data = json.load(file)"
   ]
  },
  {
   "cell_type": "code",
   "execution_count": 4,
   "metadata": {},
   "outputs": [],
   "source": [
    "# Preprocess and format the training data\n",
    "def preprocess_train_data(data):\n",
    "    stemmer = LancasterStemmer()\n",
    "\n",
    "    words = []\n",
    "    labels = list(data.keys())\n",
    "    docs_x = []\n",
    "    docs_y = []\n",
    "\n",
    "    for label in labels:\n",
    "        for pattern in data[label]['patterns']:\n",
    "            tokens = nltk.word_tokenize(pattern)\n",
    "            words.extend(tokens)\n",
    "            docs_x.append(tokens)\n",
    "            docs_y.append(label)\n",
    "\n",
    "    # Pass over punctuation tokens\n",
    "    ignored_tokens = [',', '.', '?', '!']\n",
    "    words = [stemmer.stem(w.lower()) for w in words if w not in ignored_tokens]\n",
    "\n",
    "    words = sorted(set(words))\n",
    "    labels = sorted(labels)\n",
    "\n",
    "    training = []\n",
    "    output = []\n",
    "\n",
    "    # Template for the BOW\n",
    "    out_empty = list(np.zeros(len(labels)))\n",
    "\n",
    "    for x, doc in enumerate(docs_x):\n",
    "        bag = []\n",
    "        stemmed = [stemmer.stem(w) for w in doc]\n",
    "\n",
    "        for w in words:\n",
    "            if w in stemmed:\n",
    "                bag.append(1)\n",
    "            else:\n",
    "                bag.append(0)\n",
    "\n",
    "        output_row = out_empty[:]\n",
    "        output_row[labels.index(docs_y[x])] = 1\n",
    "\n",
    "        training.append(bag)\n",
    "        output.append(output_row)  \n",
    "\n",
    "    training = np.array(training)\n",
    "    output = np.array(output)    \n",
    "    \n",
    "    return words, labels, training, output"
   ]
  },
  {
   "cell_type": "code",
   "execution_count": 6,
   "metadata": {},
   "outputs": [],
   "source": [
    "if path.exists('./data.pickle'):\n",
    "    # If a pickle file of the processed training data exists, then it will be loaded\n",
    "    with open('data.pickle', 'rb') as file:\n",
    "        words, labels, training, output = pickle.load(file)\n",
    "else:\n",
    "    # If no pickle file exists, the training data will be processed and saved in a pickle file\n",
    "    words, labels, training, output = preprocess_train_data(data)\n",
    "    with open('data.pickle', 'wb') as file:\n",
    "        pickle.dump((words, labels, training, output), file)"
   ]
  },
  {
   "cell_type": "code",
   "execution_count": 7,
   "metadata": {},
   "outputs": [
    {
     "name": "stdout",
     "output_type": "stream",
     "text": [
      "Training Step: 3999  | total loss: \u001b[1m\u001b[32m0.00635\u001b[0m\u001b[0m | time: 0.054s\n",
      "| Adam | epoch: 500 | loss: 0.00635 - acc: 1.0000 -- iter: 56/60\n",
      "Training Step: 4000  | total loss: \u001b[1m\u001b[32m0.00645\u001b[0m\u001b[0m | time: 0.063s\n",
      "| Adam | epoch: 500 | loss: 0.00645 - acc: 1.0000 -- iter: 60/60\n",
      "--\n",
      "INFO:tensorflow:C:\\Users\\owner\\Documents\\GitHub\\CustomerServiceBot-RW\\cs-bagofwords\\model.tflearn is not in all_model_checkpoint_paths. Manually adding it.\n"
     ]
    }
   ],
   "source": [
    "# Run this cell to create and train a new model\n",
    "physical_devices = tf.config.list_physical_devices('GPU') \n",
    "tf.config.experimental.set_memory_growth(physical_devices[0], True)\n",
    "\n",
    "tf.compat.v1.reset_default_graph()\n",
    "net = tflearn.input_data(shape=[None, len(training[0])])\n",
    "net = tflearn.fully_connected(net,8)\n",
    "net = tflearn.fully_connected(net,8)\n",
    "net = tflearn.fully_connected(net,8)\n",
    "net = tflearn.fully_connected(net,len(output[0]), activation='softmax')\n",
    "net = tflearn.regression(net)\n",
    "\n",
    "model = tflearn.DNN(net)\n",
    "model.fit(training, output, n_epoch=500, batch_size=8, show_metric=True)\n",
    "model.save('model.tflearn')\n"
   ]
  },
  {
   "cell_type": "code",
   "execution_count": 5,
   "metadata": {},
   "outputs": [
    {
     "name": "stdout",
     "output_type": "stream",
     "text": [
      "WARNING:tensorflow:From c:\\users\\owner\\appdata\\local\\programs\\python\\python37\\lib\\site-packages\\tflearn\\initializations.py:165: calling TruncatedNormal.__init__ (from tensorflow.python.ops.init_ops) with dtype is deprecated and will be removed in a future version.\n",
      "Instructions for updating:\n",
      "Call initializer instance with the dtype argument instead of passing it to the constructor\n",
      "INFO:tensorflow:Restoring parameters from C:\\Users\\owner\\Documents\\GitHub\\CustomerServiceBot-RW\\cs-bagofwords\\model.tflearn\n"
     ]
    }
   ],
   "source": [
    "# Run this cell to load a previously trained model\n",
    "\n",
    "physical_devices = tf.config.list_physical_devices('GPU') \n",
    "tf.config.experimental.set_memory_growth(physical_devices[0], True)\n",
    "\n",
    "tf.compat.v1.reset_default_graph()\n",
    "net = tflearn.input_data(shape=[None, len(training[0])])\n",
    "net = tflearn.fully_connected(net,8)\n",
    "net = tflearn.fully_connected(net,8)\n",
    "net = tflearn.fully_connected(net,8)\n",
    "net = tflearn.fully_connected(net,len(output[0]), activation='softmax')\n",
    "net = tflearn.regression(net)\n",
    "\n",
    "model = tflearn.DNN(net)\n",
    "model.load('model.tflearn')\n"
   ]
  },
  {
   "cell_type": "code",
   "execution_count": 8,
   "metadata": {},
   "outputs": [],
   "source": [
    "def clear(): \n",
    "    # Uses os.system and os.name\n",
    "    # for windows \n",
    "    if name == 'nt': \n",
    "        _ = system('cls') \n",
    "    # for mac/linux \n",
    "    else: \n",
    "        _ = system('clear') \n",
    "\n",
    "def bag_of_words(s, words, stemmer):\n",
    "    # Creates a bag of words from a given sequence of tokens\n",
    "    bag = list(np.zeros(len(words)))\n",
    "    s_words = nltk.word_tokenize(s)\n",
    "    s_words = [stemmer.stem(word.lower()) for word in s_words]\n",
    "\n",
    "    for se in s_words:\n",
    "        for i, w in enumerate(words):\n",
    "            if w == se:\n",
    "                bag[i]=1\n",
    "    return np.array(bag)\n"
   ]
  },
  {
   "cell_type": "code",
   "execution_count": 9,
   "metadata": {},
   "outputs": [],
   "source": [
    "def chat():\n",
    "    with open(\"user_contacts.json\") as h_file:\n",
    "        user_contacts = json.load(h_file)\n",
    "    CHAT_ENDED = False\n",
    "    user_name = '' \n",
    "    user_phone = ''\n",
    "    greeting = choice(data['greeting']['responses'])\n",
    "    stemmer = LancasterStemmer()\n",
    "    ner = spacy.load('en_core_web_sm')\n",
    "\n",
    "    def filter_punctuation(s):\n",
    "        # Uses regular expressions to filter non-alphabetical characters from strings\n",
    "        regex = re.compile('[%s]' % re.escape(string.punctuation))\n",
    "        return regex.sub('', s)\n",
    "\n",
    "    def classify(user_input):\n",
    "        results = model.predict([bag_of_words(user_input, words, stemmer)])\n",
    "        result_index=np.argmax(results)\n",
    "        result_max = np.max(results)\n",
    "        prediction = labels[result_index]\n",
    "        responses = data[prediction]['responses']\n",
    "        response = choice(responses)\n",
    "        return prediction, response\n",
    "\n",
    "    def end_chat(inp):\n",
    "#         print('Continue chat?: ', inp)\n",
    "        if inp.lower() in ['end', 'quit', 'stop']:\n",
    "            CHAT_ENDED = True\n",
    "            return True\n",
    "        return False\n",
    "\n",
    "    def get_confirmation(inp):\n",
    "#         print('Confirmed?: ', inp)\n",
    "        prediction, response = classify(inp.lower())\n",
    "        print(f\"Bot: {response}\")\n",
    "        if prediction == 'confirm':\n",
    "            return True, prediction, response\n",
    "        else:\n",
    "            return False, prediction, response   \n",
    "\n",
    "    clear()\n",
    "\n",
    "    print(f\"Bot: {greeting}\")\n",
    "\n",
    "    while not CHAT_ENDED:\n",
    "        prediction = None\n",
    "        inp = filter_punctuation(input(\"You:\").lower())\n",
    "\n",
    "        end_chat(inp)\n",
    "\n",
    "        if CHAT_ENDED:\n",
    "            break\n",
    "\n",
    "        prediction, response = classify(inp)\n",
    "\n",
    "        print(f\"Bot: {response}\")\n",
    "\n",
    "        if prediction in ['open_account', 'close_account']:\n",
    "            confirmation_inp = filter_punctuation(input(\"You:\").lower())\n",
    "            confirmed, confirmed_pred, confirmed_resp = get_confirmation(confirmation_inp)\n",
    "\n",
    "            if end_chat(confirmation_inp):\n",
    "                break\n",
    "\n",
    "            if confirmed:\n",
    "                # User wants to open/close account\n",
    "                print(f\"Bot: {data[prediction]['confirmed']}\")\n",
    "                if user_name == '':\n",
    "                    print(\"Bot: Please give me your first and last name\")\n",
    "                    inp = input(\"You:\")\n",
    "\n",
    "                    if end_chat(inp):\n",
    "                        break\n",
    "                    else:\n",
    "                        parts = ner(inp)\n",
    "                        helper = []\n",
    "                        for part in parts:\n",
    "                            if part.pos_ == 'PROPN':\n",
    "                                helper.append(part.text)\n",
    "                        user_name = ' '.join(helper)\n",
    "                        print(f\"Bot: Your name is {user_name}. Is that correct?\")\n",
    "                        confirmation_inp = filter_punctuation(input(\"You:\").lower())\n",
    "\n",
    "                        if end_chat(confirmation_inp):\n",
    "                            break\n",
    "                            \n",
    "                        confirmed, confirmed_pred, confirmed_resp = get_confirmation(confirmation_inp)\n",
    "\n",
    "                        if not confirmed:\n",
    "                            user_name = ''\n",
    "                            continue\n",
    "                \n",
    "                \n",
    "                if user_name not in user_contacts.keys():\n",
    "                    user_contacts[user_name] = {'phone':user_phone,'requests':[]}\n",
    "                else:\n",
    "                    user_phone = user_contacts[user_name]['phone']\n",
    "                \n",
    "                if user_phone == '':\n",
    "                    print(\"Bot: Please give me your phone number\")\n",
    "                    inp = input(\"You:\")\n",
    "\n",
    "                    if end_chat(inp):\n",
    "                        break\n",
    "                    else:\n",
    "                        parts = ner(inp)\n",
    "                        helper = []\n",
    "                        for part in parts:\n",
    "                            if part.pos_ == 'NUM':\n",
    "                                helper.append(part.text)\n",
    "                        user_phone = ''.join(helper)\n",
    "                        print(f\"Bot: Your phone number is {user_phone}. Is that correct?\")\n",
    "                        confirmation_inp = filter_punctuation(input(\"You:\").lower())\n",
    "\n",
    "                        if end_chat(confirmation_inp):\n",
    "                            break\n",
    "                            \n",
    "                        confirmed, confirmed_pred, confirmed_resp = get_confirmation(confirmation_inp)\n",
    "                        \n",
    "                        if not confirmed:\n",
    "                            user_phone = ''\n",
    "                            continue\n",
    "                    if user_phone != user_contacts[user_name]['phone']:\n",
    "                        user_contacts[user_name]['phone'] = user_phone\n",
    "                        \n",
    "                user_contacts[user_name]['requests'].append(prediction)\n",
    "                print(f\"Bot: A request has been logged for {user_name} to '{prediction.replace('_', ' ')}'\")\n",
    "                user_name = ''\n",
    "                user_phone = ''\n",
    "                prediction = 'continue?'\n",
    "\n",
    "            else:\n",
    "                # User does not want to open/close account\n",
    "                pass\n",
    "\n",
    "        elif prediction == 'account_balance':\n",
    "            confirmation_inp = filter_punctuation(input(\"You:\").lower())\n",
    "            if end_chat(confirmation_inp):\n",
    "                break\n",
    "            confirmed, confirmed_pred, confirmed_resp = get_confirmation(confirmation_inp)\n",
    "            if confirmed:\n",
    "                balance = round(uniform(1,9999999), 2)\n",
    "                print(f\"Bot: Your account balance is ${balance}\")\n",
    "                prediction = 'continue?'\n",
    "            else:\n",
    "                pass\n",
    "            \n",
    "        elif prediction == 'goodbye':\n",
    "            break\n",
    "\n",
    "        elif prediction == '':\n",
    "            print(\"Bot: I'm sorry, I didn't quite get that.\")\n",
    "        \n",
    "        if prediction == 'continue?':\n",
    "            print(\"Bot: Is there anything else I can help with?\")\n",
    "\n",
    "    with open(\"user_contacts.json\", \"w\") as h_file:\n",
    "        json.dump(user_contacts, h_file)"
   ]
  },
  {
   "cell_type": "code",
   "execution_count": 10,
   "metadata": {},
   "outputs": [
    {
     "name": "stdout",
     "output_type": "stream",
     "text": [
      "Bot: Hello. Welcome to BotBank. How can I help?\n"
     ]
    },
    {
     "name": "stdin",
     "output_type": "stream",
     "text": [
      "You: I want to open a new account.\n"
     ]
    },
    {
     "name": "stdout",
     "output_type": "stream",
     "text": [
      "Bot: You are trying to open an account. Is that correct?\n"
     ]
    },
    {
     "name": "stdin",
     "output_type": "stream",
     "text": [
      "You: Yes\n"
     ]
    },
    {
     "name": "stdout",
     "output_type": "stream",
     "text": [
      "Bot: Great. Thanks for confirming.\n",
      "Bot: You will need to speak with a representative, but I can log a request to speed up the process.\n",
      "Bot: Please give me your first and last name\n"
     ]
    },
    {
     "name": "stdin",
     "output_type": "stream",
     "text": [
      "You: Lester Morrison\n"
     ]
    },
    {
     "name": "stdout",
     "output_type": "stream",
     "text": [
      "Bot: Your name is Lester Morrison. Is that correct?\n"
     ]
    },
    {
     "name": "stdin",
     "output_type": "stream",
     "text": [
      "You: Yes\n"
     ]
    },
    {
     "name": "stdout",
     "output_type": "stream",
     "text": [
      "Bot: Great. Thanks for confirming.\n",
      "Bot: A request has been logged for Lester Morrison to 'open account'\n",
      "Bot: Is there anything else I can help with?\n"
     ]
    },
    {
     "name": "stdin",
     "output_type": "stream",
     "text": [
      "You: Check account balance.\n"
     ]
    },
    {
     "name": "stdout",
     "output_type": "stream",
     "text": [
      "Bot: You want to check your account balance. Is that correct?\n"
     ]
    },
    {
     "name": "stdin",
     "output_type": "stream",
     "text": [
      "You: Yes\n"
     ]
    },
    {
     "name": "stdout",
     "output_type": "stream",
     "text": [
      "Bot: Great. Thanks for confirming.\n",
      "Bot: Your account balance is $6973016.69\n",
      "Bot: Is there anything else I can help with?\n"
     ]
    },
    {
     "name": "stdin",
     "output_type": "stream",
     "text": [
      "You: Can I close my account?\n"
     ]
    },
    {
     "name": "stdout",
     "output_type": "stream",
     "text": [
      "Bot: You want to close your account. Is that right?\n"
     ]
    },
    {
     "name": "stdin",
     "output_type": "stream",
     "text": [
      "You: That's right.\n"
     ]
    },
    {
     "name": "stdout",
     "output_type": "stream",
     "text": [
      "Bot: Thank you.\n",
      "Bot: You will need to speak with a representative, but I can log a request to speed up the process.\n",
      "Bot: Please give me your first and last name\n"
     ]
    },
    {
     "name": "stdin",
     "output_type": "stream",
     "text": [
      "You: Lester Morrison\n"
     ]
    },
    {
     "name": "stdout",
     "output_type": "stream",
     "text": [
      "Bot: Your name is Lester Morrison. Is that correct?\n"
     ]
    },
    {
     "name": "stdin",
     "output_type": "stream",
     "text": [
      "You: Yes\n"
     ]
    },
    {
     "name": "stdout",
     "output_type": "stream",
     "text": [
      "Bot: Thank you.\n",
      "Bot: A request has been logged for Lester Morrison to 'close account'\n",
      "Bot: Is there anything else I can help with?\n"
     ]
    },
    {
     "name": "stdin",
     "output_type": "stream",
     "text": [
      "You: What are your hours?\n"
     ]
    },
    {
     "name": "stdout",
     "output_type": "stream",
     "text": [
      "Bot: All BotBank locations are open 7am-4pm Monday-Friday!\n"
     ]
    },
    {
     "name": "stdin",
     "output_type": "stream",
     "text": [
      "You: That's all I needed.\n"
     ]
    },
    {
     "name": "stdout",
     "output_type": "stream",
     "text": [
      "Bot: Glad I could help. Thanks for choosing BotBank Have a nice day.\n"
     ]
    }
   ],
   "source": [
    "chat()"
   ]
  },
  {
   "cell_type": "code",
   "execution_count": null,
   "metadata": {},
   "outputs": [],
   "source": []
  }
 ],
 "metadata": {
  "kernelspec": {
   "display_name": "Python 3",
   "language": "python",
   "name": "python3"
  },
  "language_info": {
   "codemirror_mode": {
    "name": "ipython",
    "version": 3
   },
   "file_extension": ".py",
   "mimetype": "text/x-python",
   "name": "python",
   "nbconvert_exporter": "python",
   "pygments_lexer": "ipython3",
   "version": "3.7.7"
  }
 },
 "nbformat": 4,
 "nbformat_minor": 4
}
