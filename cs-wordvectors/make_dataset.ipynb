{
 "metadata": {
  "language_info": {
   "codemirror_mode": {
    "name": "ipython",
    "version": 3
   },
   "file_extension": ".py",
   "mimetype": "text/x-python",
   "name": "python",
   "nbconvert_exporter": "python",
   "pygments_lexer": "ipython3",
   "version": "3.7.7"
  },
  "orig_nbformat": 2,
  "kernelspec": {
   "name": "python3",
   "display_name": "Python 3.7.7 64-bit",
   "metadata": {
    "interpreter": {
     "hash": "c9c193319ebd2a89754c1a4aa4516d58b41ef9df354ad04f80777c68efefc770"
    }
   }
  }
 },
 "nbformat": 4,
 "nbformat_minor": 2,
 "cells": [
  {
   "source": [
    "# Making your dataset\n",
    "This notebook contains some logic that can be used to format a text file of conversations to the format required by PersonaChat.\n",
    "The text file should have conversations made of lines of dialogue alternating between two speakers.  \n",
    "Each utterance of dialogue should be on a separate line.\n",
    "The conversations should be separated by a single newline."
   ],
   "cell_type": "markdown",
   "metadata": {}
  },
  {
   "cell_type": "code",
   "execution_count": 26,
   "metadata": {},
   "outputs": [],
   "source": [
    "import json, pickle\n",
    "from random import choice"
   ]
  },
  {
   "cell_type": "code",
   "execution_count": 27,
   "metadata": {},
   "outputs": [
    {
     "output_type": "execute_result",
     "data": {
      "text/plain": [
       "['hi i want to close my account .',\n",
       " 'you wish to close an existing account . is that correct ?',\n",
       " \"that's right .\",\n",
       " 'i can log a request to speed up the process . please give me your first and last name .',\n",
       " 'my name is <f_name> <l_name>',\n",
       " 'your first and last name is <f_name> <l_name> . is that correct ?',\n",
       " 'correct .',\n",
       " 'a request has been logged . is there anything else i can help with ?',\n",
       " \"that's all .\",\n",
       " 'thank you for using botbank .']"
      ]
     },
     "metadata": {},
     "execution_count": 27
    }
   ],
   "source": [
    "with open('conversations.txt') as txt:\n",
    "    data = txt.read()\n",
    "\n",
    "convos = data.split('\\n\\n')\n",
    "convo_list = []\n",
    "\n",
    "for convo in convos:\n",
    "    fixed = convo.lower()\n",
    "    fixed = fixed.replace('.', ' .').replace(',', '').replace('?', ' ?').replace('!', ' !')\n",
    "    convo_list.append(fixed.split('\\n'))\n",
    "\n",
    "convo_list[1]"
   ]
  },
  {
   "cell_type": "code",
   "execution_count": 28,
   "metadata": {},
   "outputs": [
    {
     "output_type": "execute_result",
     "data": {
      "text/plain": [
       "['but it depends on the circumstances and what it is you want to deduct\\n',\n",
       " 'travel taxpayers who travel away from home on business may deduct related expenses including the cost of reaching their destination the cost of lodging and meals and other ordinary and necessary expenses\\n',\n",
       " 'taxpayers are considered traveling away from home if their duties require them to be away from home substantially longer than an ordinary days work and they need to sleep or rest to meet the demands of their work\\n',\n",
       " 'the actual cost of meals and incidental expenses may be deducted or the taxpayer may use a standard meal allowance and reduced record keeping requirements\\n',\n",
       " 'regardless of the method used meal deductions are generally limited to 50 percent as stated earlier\\n']"
      ]
     },
     "metadata": {},
     "execution_count": 28
    }
   ],
   "source": [
    "with open('financial_responses.txt') as e_file:\n",
    "    extras = e_file.readlines()\n",
    "extras[:5]"
   ]
  },
  {
   "cell_type": "code",
   "execution_count": 29,
   "metadata": {},
   "outputs": [
    {
     "output_type": "execute_result",
     "data": {
      "text/plain": [
       "['but it depends on the circumstances and what it is you want to deduct',\n",
       " 'expenses must be reasonable and appropriate deductions for extravagant expenses are not allowable',\n",
       " 'more information is available in publication 463 travel entertainment gift and car expenses',\n",
       " 'more discussion of the rules and limitations can be found in publication 463',\n",
       " 'edit for meal expenses amount of standard meal allowance']"
      ]
     },
     "metadata": {},
     "execution_count": 29
    }
   ],
   "source": [
    "e_trim = []\n",
    "for thing in extras:\n",
    "    # Choose a sequence of arbitrary length\n",
    "    # In this instance, only sequences between 40 and 100 characters were kept\n",
    "    if len(thing) < 100 and len(thing) > 40:\n",
    "        e_trim.append(thing.replace('\\n', ''))\n",
    "e_trim[:5]"
   ]
  },
  {
   "cell_type": "code",
   "execution_count": 30,
   "metadata": {},
   "outputs": [],
   "source": [
    "personality = [\n",
    "    \"i am here help you with your questions and requests .\",\n",
    "    \"i am a customer support helper for BotBank .\",\n",
    "    \"botbank is a globally trusted financial institution .\",\n",
    "    \"botbank offers a wide variety of financial services .\",\n",
    "    \"i am a customer support engine .\",\n",
    "    \"i cannnot do some things that my human counter parts can but i can still help .\"\n",
    "]"
   ]
  },
  {
   "cell_type": "code",
   "execution_count": 31,
   "metadata": {},
   "outputs": [
    {
     "output_type": "execute_result",
     "data": {
      "text/plain": [
       "30"
      ]
     },
     "metadata": {},
     "execution_count": 31
    }
   ],
   "source": [
    "len(convo_list)"
   ]
  },
  {
   "cell_type": "code",
   "execution_count": 34,
   "metadata": {},
   "outputs": [],
   "source": [
    "train_data = {}\n",
    "train = []\n",
    "for i in range(24):\n",
    "    helper = {}\n",
    "    convo = convo_list[i]\n",
    "    helper['personality'] = personality\n",
    "    utts = []\n",
    "    for i in range(0,len(convo)-1,2):\n",
    "        utterance = {}\n",
    "        utterance['candidates'] = [choice(e_trim) for i in range(5)]\n",
    "        utterance['candidates'].append(convo[i+1])\n",
    "        utterance['history'] = convo[:i+1]\n",
    "        utts.append(utterance)\n",
    "    helper['utterances'] = utts\n",
    "    train.append(helper)\n",
    "\n",
    "validate = []\n",
    "for i in range(24, 30):\n",
    "    helper = {}\n",
    "    convo = convo_list[i]\n",
    "    helper['personality'] = personality\n",
    "    utts = []\n",
    "    for i in range(0,len(convo)-1,2):\n",
    "        utterance = {}\n",
    "        utterance['candidates'] = [choice(e_trim) for i in range(5)]\n",
    "        utterance['candidates'].append(convo[i+1])\n",
    "        utterance['history'] = convo[:i+1]\n",
    "        utts.append(utterance)\n",
    "    helper['utterances'] = utts\n",
    "    validate.append(helper)\n",
    "\n",
    "train_data['train'] = train\n",
    "train_data['validate'] = validate\n"
   ]
  },
  {
   "cell_type": "code",
   "execution_count": 35,
   "metadata": {},
   "outputs": [],
   "source": [
    "with open('training_data.json', 'w') as file:\n",
    "    json.dump(train_data, file)"
   ]
  },
  {
   "cell_type": "code",
   "execution_count": null,
   "metadata": {},
   "outputs": [],
   "source": []
  }
 ]
}