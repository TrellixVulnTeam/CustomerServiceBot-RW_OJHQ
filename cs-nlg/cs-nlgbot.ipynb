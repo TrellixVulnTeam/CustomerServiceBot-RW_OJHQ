{
 "metadata": {
  "language_info": {
   "codemirror_mode": {
    "name": "ipython",
    "version": 3
   },
   "file_extension": ".py",
   "mimetype": "text/x-python",
   "name": "python",
   "nbconvert_exporter": "python",
   "pygments_lexer": "ipython3",
   "version": "3.7.7"
  },
  "orig_nbformat": 2,
  "kernelspec": {
   "name": "python377jvsc74a57bd0c9c193319ebd2a89754c1a4aa4516d58b41ef9df354ad04f80777c68efefc770",
   "display_name": "Python 3.7.7 64-bit"
  }
 },
 "nbformat": 4,
 "nbformat_minor": 2,
 "cells": [
  {
   "source": [
    "# Implement an NLG chatbot\n",
    "This file provides easy implementation of a Hugging Face model and fine-tunes it on a custom dataset.  \n",
    "Simply run the cells to train and chat with a model.  \n",
    "The cells use scripts created by Hugging Face and each script has many customizable parameters. "
   ],
   "cell_type": "markdown",
   "metadata": {}
  },
  {
   "cell_type": "code",
   "execution_count": null,
   "metadata": {},
   "outputs": [],
   "source": [
    "# If you haven't already, copy the repo to your current working environment and install the requirements.txt in this folder\n",
    "\n",
    "!git clone https://github.com/rweddell/CustomerServiceBot-RW  "
   ]
  },
  {
   "cell_type": "code",
   "execution_count": null,
   "metadata": {},
   "outputs": [],
   "source": [
    "# Install the /cs-nlg/requirements.txt and upload the resources for spacy\n",
    "\n",
    "!pip install -r /content/CustomerServiceBot-RW/cs-nlg/requirements.txt\n",
    "!python -m spacy download en "
   ]
  },
  {
   "source": [
    "## Train the model\n",
    "The train.py script imports a pretrained BERT model and trains it on a given dataset or the default dataset in Hugging Face's S3 bucket.   \n",
    "With the parameters configured in the following cell, the training should take about 5 minutes using a GPU or around 15 minutes with a cpu.    \n",
    "\n",
    "Below is a table of the available parameters that can be added to the run command.  \n",
    "\n",
    "Argument | Type | Default value | Description\n",
    "---------|------|---------------|------------\n",
    "dataset_path | `str` | `\"\"` | Path or url of the dataset. If empty download from S3.\n",
    "dataset_cache | `str` | `'./dataset_cache.bin'` | Path or url of the dataset cache\n",
    "model | `str` | `\"openai-gpt\"` | Path, url or short name of the model\n",
    "num_candidates | `int` | `2` | Number of candidates for training\n",
    "max_history | `int` | `2` | Number of previous exchanges to keep in history\n",
    "train_batch_size | `int` | `4` | Batch size for training\n",
    "valid_batch_size | `int` | `4` | Batch size for validation\n",
    "gradient_accumulation_steps | `int` | `8` | Accumulate gradients on several steps\n",
    "lr | `float` | `6.25e-5` | Learning rate\n",
    "lm_coef | `float` | `1.0` | LM loss coefficient\n",
    "mc_coef | `float` | `1.0` | Multiple-choice loss coefficient\n",
    "max_norm | `float` | `1.0` | Clipping gradient norm\n",
    "n_epochs | `int` | `3` | Number of training epochs\n",
    "personality_permutations | `int` | `1` | Number of permutations of personality sentences\n",
    "device | `str` | `\"cuda\" if torch.cuda.is_available() else \"cpu\"` | Device (cuda or cpu)\n",
    "fp16 | `str` | `\"\"` | Set to O0, O1, O2 or O3 for fp16 training (see apex documentation)\n",
    "local_rank | `int` | `-1` | Local rank for distributed training (-1: not distributed)\n"
   ],
   "cell_type": "markdown",
   "metadata": {}
  },
  {
   "cell_type": "code",
   "execution_count": null,
   "metadata": {},
   "outputs": [],
   "source": [
    "# Run the train.py script created by Hugging Face to fine-tune a BERT model on cs_training_data.json. If the dataset_path is removed, the script will automatically upload the dataset hosted by Hugging Face.\n",
    "\n",
    "!python /content/CustomerServiceBot-RW/cs-nlg/hugging-face/train.py --dataset_path=\"/content/CustomerServiceBot-RW/cs-nlg/cs_training_data.json\" --n_epochs=30 --train_batch_size=4 --valid_batch_size=2 --max_history=4"
   ]
  },
  {
   "source": [
    "## Implement the model  \n",
    "Chat with the trained model using interact.py.    \n",
    "If a model_checkpoint is not specified, interact.py will reference a previously trained model from Hugging Face's S3 bucket.  \n",
    "\n",
    "Argument | Type | Default value | Description\n",
    "---------|------|---------------|------------\n",
    "dataset_path | `str` | `\"\"` | Path or url of the dataset. If empty download from S3.\n",
    "dataset_cache | `str` | `'./dataset_cache.bin'` | Path or url of the dataset cache\n",
    "model | `str` | `\"openai-gpt\"` | Path, url or short name of the model\n",
    "max_history | `int` | `2` | Number of previous utterances to keep in history\n",
    "device | `str` | `cuda` if `torch.cuda.is_available()` else `cpu` | Device (cuda or cpu)\n",
    "no_sample | action `store_true` | Set to use greedy decoding instead of sampling\n",
    "max_length | `int` | `20` | Maximum length of the output utterances\n",
    "min_length | `int` | `1` | Minimum length of the output utterances\n",
    "seed | `int` | `42` | Seed\n",
    "temperature | `int` | `0.7` | Sampling softmax temperature\n",
    "top_k | `int` | `0` | Filter top-k tokens before sampling (`<=0`: no filtering)\n",
    "top_p | `float` | `0.9` | Nucleus filtering (top-p) before sampling (`<=0.0`: no filtering)\n"
   ],
   "cell_type": "markdown",
   "metadata": {}
  },
  {
   "cell_type": "code",
   "execution_count": null,
   "metadata": {},
   "outputs": [],
   "source": [
    "# Example location from a Colab run\n",
    "#!python ./hugging-face/interact.py --model_checkpoint '/content/runs/Apr03_19-59-03_b8f756943518_openai-gpt'\n",
    "\n",
    "!python /content/CustomerServiceBot-RW/hugging-face/interact.py --model_checkpoint='<path/to/trained/model/>'"
   ]
  },
  {
   "cell_type": "code",
   "execution_count": null,
   "metadata": {},
   "outputs": [],
   "source": []
  }
 ]
}